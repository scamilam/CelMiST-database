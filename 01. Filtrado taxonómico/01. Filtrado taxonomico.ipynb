{
 "cells": [
  {
   "cell_type": "code",
   "execution_count": 1,
   "id": "af64dc21-b7fd-43c6-ae5c-14406dd8a971",
   "metadata": {},
   "outputs": [],
   "source": [
    "#Importar bibliotecas\n",
    "import pandas as pd\n",
    "import Bio as bio"
   ]
  },
  {
   "cell_type": "code",
   "execution_count": 2,
   "id": "7f5ba431-506a-4887-ac15-2933ca6c542f",
   "metadata": {},
   "outputs": [],
   "source": [
    "#Lectura del archivo con accesiones\n",
    "df = pd.read_csv(\"in.txt\", sep = '\\t')"
   ]
  },
  {
   "cell_type": "code",
   "execution_count": 3,
   "id": "054c8a78-3cc8-4543-b183-d2a5ee0f3f89",
   "metadata": {},
   "outputs": [
    {
     "data": {
      "text/plain": [
       "['WIM94906.1', 'QCV87940.1', 'UOE26568.1', 'AIR61364.1']"
      ]
     },
     "execution_count": 3,
     "metadata": {},
     "output_type": "execute_result"
    }
   ],
   "source": [
    "#Selección de la columna llamada \"accesion\" y conversión de la columna en lista.\n",
    "col1 = df[\"accesion\"]\n",
    "lista = list(col1)\n",
    "lista"
   ]
  },
  {
   "cell_type": "code",
   "execution_count": 4,
   "id": "8fa94397-b8a0-4b0a-855c-341cfff0eadb",
   "metadata": {},
   "outputs": [],
   "source": [
    "# FILTRO 1 - TAXONOMÍA\n",
    "from Bio import SeqIO, Entrez\n",
    "\n",
    "def extract_protein_data(protein_files):\n",
    "    # Inicializar listas para almacenar los datos\n",
    "    protein_data = []\n",
    "    \n",
    "    Entrez.email = \"scminat@utn.edu.ec\"\n",
    "    Entrez.api_key = \"1e71a6fbed3171a40ea7a6cd9e0ed8298009\"\n",
    "    \n",
    "    for protein_id in protein_files:\n",
    "        try:\n",
    "            # Obtener el registro de Protein de la base de datos del NCBI.\n",
    "            handle = Entrez.efetch(db=\"protein\", id=protein_id, rettype=\"gb\", retmode=\"text\")\n",
    "            record = SeqIO.read(handle, \"genbank\")\n",
    "            handle.close()\n",
    "            \n",
    "            # Crear un diccionario para almacenar los datos de cada acceso.\n",
    "            accession_data = {}\n",
    "            \n",
    "            for feature in record.features:\n",
    "                if feature.type == \"CDS\":\n",
    "\n",
    "                    gene_name = feature.qualifiers.get(\"gene\", [\"N/A\"])[0]\n",
    "                    \n",
    "                    # Agregar los datos al diccionario.\n",
    "                    accession_data[\"Protein Accession\"] = protein_id\n",
    "            \n",
    "            # Obtener los datos del taxón.\n",
    "            taxon_data = record.annotations.get(\"taxonomy\", [\"N/A\"])\n",
    "            accession_data[\"Taxon Data\"] = \"; \".join(taxon_data)\n",
    "            \n",
    "            # Agregar el diccionario a la lista de datos.\n",
    "            protein_data.append(accession_data)\n",
    "        \n",
    "        except Exception as e:\n",
    "            print(f\"Error fetching data for protein ID {protein_id}: {e}\")\n",
    "\n",
    "    # Crear un DataFrame combinado con todos los datos.\n",
    "    combined_df = pd.DataFrame(protein_data)\n",
    "    \n",
    "    # Exportar el DataFrame combinado a un archivo CSV.\n",
    "    combined_df.to_csv('out.csv', index=False)\n",
    "    \n",
    "    # Mostrar el DataFrame combinado.\n",
    "    print(\"Combined DataFrame:\")\n",
    "    print(combined_df)\n",
    "    return combined_df"
   ]
  },
  {
   "cell_type": "code",
   "execution_count": 5,
   "id": "fe38d9a8-5f47-447f-8b5c-71d9dced088a",
   "metadata": {},
   "outputs": [
    {
     "name": "stdout",
     "output_type": "stream",
     "text": [
      "Combined DataFrame:\n",
      "  Protein Accession                                         Taxon Data\n",
      "0        WIM94906.1  Bacteria; Bacillati; Actinomycetota; Actinomyc...\n",
      "1        QCV87940.1  Bacteria; Bacillati; Actinomycetota; Actinomyc...\n",
      "2        UOE26568.1  Bacteria; Bacillati; Actinomycetota; Actinomyc...\n",
      "3        AIR61364.1  Bacteria; Pseudomonadati; Pseudomonadota; Gamm...\n"
     ]
    }
   ],
   "source": [
    "# Ejemplo de uso\n",
    "protein_files = lista  # Lista con los IDs de proteínas.\n",
    "combined_df = extract_protein_data(protein_files)\n"
   ]
  },
  {
   "cell_type": "code",
   "execution_count": null,
   "id": "bac05b7e-52d9-469b-8c63-cdea4d6392ef",
   "metadata": {},
   "outputs": [],
   "source": []
  }
 ],
 "metadata": {
  "kernelspec": {
   "display_name": "Python 3 (ipykernel)",
   "language": "python",
   "name": "python3"
  },
  "language_info": {
   "codemirror_mode": {
    "name": "ipython",
    "version": 3
   },
   "file_extension": ".py",
   "mimetype": "text/x-python",
   "name": "python",
   "nbconvert_exporter": "python",
   "pygments_lexer": "ipython3",
   "version": "3.11.7"
  }
 },
 "nbformat": 4,
 "nbformat_minor": 5
}
