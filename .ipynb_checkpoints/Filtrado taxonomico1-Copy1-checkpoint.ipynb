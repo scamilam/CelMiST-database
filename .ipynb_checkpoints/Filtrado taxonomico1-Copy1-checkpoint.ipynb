{
 "cells": [
  {
   "cell_type": "code",
   "execution_count": 1,
   "id": "af64dc21-b7fd-43c6-ae5c-14406dd8a971",
   "metadata": {},
   "outputs": [],
   "source": [
    "import pandas as pd\n",
    "import Bio as bio"
   ]
  },
  {
   "cell_type": "code",
   "execution_count": 2,
   "id": "7f5ba431-506a-4887-ac15-2933ca6c542f",
   "metadata": {},
   "outputs": [],
   "source": [
    "df = pd.read_csv(\"familia1.txt\", sep = '\\t')"
   ]
  },
  {
   "cell_type": "code",
   "execution_count": 3,
   "id": "054c8a78-3cc8-4543-b183-d2a5ee0f3f89",
   "metadata": {},
   "outputs": [
    {
     "data": {
      "text/plain": [
       "['BCM92930.1', 'BCM90541.1', 'BCM93128.1', 'BCM93164.1']"
      ]
     },
     "execution_count": 3,
     "metadata": {},
     "output_type": "execute_result"
    }
   ],
   "source": [
    "col1 = df[\"accesion\"]\n",
    "lista = list(col1)\n",
    "lista"
   ]
  },
  {
   "cell_type": "code",
   "execution_count": 4,
   "id": "d9fafa2f-c67c-4df2-b1c8-3c8248ce6031",
   "metadata": {},
   "outputs": [],
   "source": [
    "df1 = pd.read_csv(\"GH45.txt\", sep = '\\t')"
   ]
  },
  {
   "cell_type": "code",
   "execution_count": 5,
   "id": "5beeb122-787a-4f77-b81a-27116b8bf4dd",
   "metadata": {
    "scrolled": true
   },
   "outputs": [
    {
     "data": {
      "text/plain": [
       "['WNG53964.1',\n",
       " 'QEI18240.1',\n",
       " 'AIF91527.1',\n",
       " 'WNG23565.1',\n",
       " 'ACX75523.1',\n",
       " 'QIN33010.1',\n",
       " 'QSQ17534.1',\n",
       " 'WAS96913.1',\n",
       " 'QII80027.1',\n",
       " 'WYH50210.1',\n",
       " 'AAP49340.1']"
      ]
     },
     "execution_count": 5,
     "metadata": {},
     "output_type": "execute_result"
    }
   ],
   "source": [
    "col2 = df1[\"accesion\"]\n",
    "lista2 = list(col2)\n",
    "lista2"
   ]
  },
  {
   "cell_type": "code",
   "execution_count": 6,
   "id": "a5165d7e-0a27-42ea-898a-561c4065fc37",
   "metadata": {},
   "outputs": [],
   "source": [
    "from Bio import Entrez, SeqIO\n",
    "import pandas as pd\n",
    "\n",
    "def extract_protein_data(protein_files):\n",
    "    # Configurar el correo electrónico y la clave API\n",
    "    Entrez.email = \"scminat@utn.edu.ec\"\n",
    "    Entrez.api_key = \"1e71a6fbed3171a40ea7a6cd9e0ed8298009\"\n",
    "    # Inicializar listas para almacenar los datos\n",
    "    protein_data = []\n",
    "\n",
    "    for protein_id in protein_files:\n",
    "        try:\n",
    "            # Fetch the Protein record from the NCBI database\n",
    "            handle = Entrez.efetch(db=\"protein\", id=protein_id, rettype=\"gb\", retmode=\"text\")\n",
    "            record = SeqIO.read(handle, \"genbank\")\n",
    "            handle.close()\n",
    "            \n",
    "            # Crear un diccionario para almacenar los datos de cada acceso\n",
    "            accession_data = {}\n",
    "            \n",
    "            for feature in record.features:\n",
    "                if feature.type == \"CDS\":\n",
    "                    # Agregar título y descripción de la proteína\n",
    "                    accession_data[\"Protein Title\"] = record.description\n",
    "                    # Extraer datos de cada característica\n",
    "                    protein_id = feature.qualifiers.get(\"id\", [\"N/A\"])[0]\n",
    "                    protein_product = feature.qualifiers.get(\"product\", [\"N/A\"])[0]\n",
    "                    protein_sequence = feature.qualifiers.get(\"translation\", [\"N/A\"])[0]\n",
    "                    # Agregar los datos al diccionario\n",
    "                    accession_data[\"Protein Accession Code\"] = protein_id\n",
    "                    accession_data[\"Protein Product\"] = protein_product\n",
    "                    accession_data[\"Protein Sequence\"] = protein_sequence\n",
    "            \n",
    "            # Obtener los datos del taxón\n",
    "            taxon_data = record.annotations.get(\"taxonomy\", [\"N/A\"])\n",
    "            accession_data[\"Taxon Data\"] = \"; \".join(taxon_data)\n",
    "            \n",
    "            # Agregar el diccionario a la lista de datos\n",
    "            protein_data.append(accession_data)\n",
    "        \n",
    "        except Exception as e:\n",
    "            print(f\"Error fetching data for protein ID {protein_id}: {e}\")\n",
    "\n",
    "    # Crear un DataFrame con todos los datos\n",
    "    df = pd.DataFrame(protein_data)\n",
    "    return df"
   ]
  },
  {
   "cell_type": "code",
   "execution_count": 7,
   "id": "e1f9631a-c83e-4ca6-aa13-1a3e26b1d07b",
   "metadata": {},
   "outputs": [],
   "source": [
    "ej1 = ['BCM92930.1', 'BCM90541.1']"
   ]
  },
  {
   "cell_type": "code",
   "execution_count": 8,
   "id": "5163194b-3d3a-4d33-a9c7-391a426f6c16",
   "metadata": {},
   "outputs": [
    {
     "name": "stdout",
     "output_type": "stream",
     "text": [
      "                                       Protein Title Protein Accession Code  \\\n",
      "0  1,4-beta-D-glucan glucohydrolase [Abditibacter...                    N/A   \n",
      "1  hypothetical protein IAD21_02395 [Abditibacter...                    N/A   \n",
      "\n",
      "  Protein Product Protein Sequence                  Taxon Data  \n",
      "0             N/A              N/A  Bacteria; Abditibacteriota  \n",
      "1             N/A              N/A  Bacteria; Abditibacteriota  \n"
     ]
    }
   ],
   "source": [
    "# Ejemplo de uso\n",
    "protein_files = ej1  # Reemplazar con tus códigos de acceso de proteínas\n",
    "protein_data_df = extract_protein_data(protein_files)\n",
    "print(protein_data_df)\n"
   ]
  },
  {
   "cell_type": "code",
   "execution_count": 9,
   "id": "59d894b8-5c5e-446e-b880-6b031888492f",
   "metadata": {
    "scrolled": true
   },
   "outputs": [
    {
     "data": {
      "text/plain": [
       "['WNG53964.1',\n",
       " 'QEI18240.1',\n",
       " 'AIF91527.1',\n",
       " 'WNG23565.1',\n",
       " 'ACX75523.1',\n",
       " 'QIN33010.1',\n",
       " 'QSQ17534.1',\n",
       " 'WAS96913.1',\n",
       " 'QII80027.1',\n",
       " 'WYH50210.1',\n",
       " 'AAP49340.1']"
      ]
     },
     "execution_count": 9,
     "metadata": {},
     "output_type": "execute_result"
    }
   ],
   "source": [
    "ej2 = lista2[0:11]\n",
    "ej2"
   ]
  },
  {
   "cell_type": "code",
   "execution_count": 10,
   "id": "babd49ee-9dd4-4f28-a85a-01af730acea7",
   "metadata": {},
   "outputs": [
    {
     "data": {
      "text/html": [
       "<div>\n",
       "<style scoped>\n",
       "    .dataframe tbody tr th:only-of-type {\n",
       "        vertical-align: middle;\n",
       "    }\n",
       "\n",
       "    .dataframe tbody tr th {\n",
       "        vertical-align: top;\n",
       "    }\n",
       "\n",
       "    .dataframe thead th {\n",
       "        text-align: right;\n",
       "    }\n",
       "</style>\n",
       "<table border=\"1\" class=\"dataframe\">\n",
       "  <thead>\n",
       "    <tr style=\"text-align: right;\">\n",
       "      <th></th>\n",
       "      <th>Protein Title</th>\n",
       "      <th>Protein Accession Code</th>\n",
       "      <th>Protein Product</th>\n",
       "      <th>Protein Sequence</th>\n",
       "      <th>Taxon Data</th>\n",
       "    </tr>\n",
       "  </thead>\n",
       "  <tbody>\n",
       "    <tr>\n",
       "      <th>0</th>\n",
       "      <td>hypothetical protein F0U59_03510 [Archangium g...</td>\n",
       "      <td>N/A</td>\n",
       "      <td>N/A</td>\n",
       "      <td>N/A</td>\n",
       "      <td>Bacteria; Myxococcota; Myxococcia; Myxococcale...</td>\n",
       "    </tr>\n",
       "    <tr>\n",
       "      <th>1</th>\n",
       "      <td>endoglucanase [Cellvibrio japonicus]</td>\n",
       "      <td>N/A</td>\n",
       "      <td>N/A</td>\n",
       "      <td>N/A</td>\n",
       "      <td>Bacteria; Pseudomonadota; Gammaproteobacteria;...</td>\n",
       "    </tr>\n",
       "    <tr>\n",
       "      <th>2</th>\n",
       "      <td>glycosyl hydrolase family 45 domain-containing...</td>\n",
       "      <td>N/A</td>\n",
       "      <td>N/A</td>\n",
       "      <td>N/A</td>\n",
       "      <td>Bacteria; Pseudomonadota; Gammaproteobacteria;...</td>\n",
       "    </tr>\n",
       "    <tr>\n",
       "      <th>3</th>\n",
       "      <td>hypothetical protein F0U62_05620 [Cystobacter ...</td>\n",
       "      <td>N/A</td>\n",
       "      <td>N/A</td>\n",
       "      <td>N/A</td>\n",
       "      <td>Bacteria; Myxococcota; Myxococcia; Myxococcale...</td>\n",
       "    </tr>\n",
       "    <tr>\n",
       "      <th>4</th>\n",
       "      <td>Cellulase [Fibrobacter succinogenes subsp. suc...</td>\n",
       "      <td>N/A</td>\n",
       "      <td>N/A</td>\n",
       "      <td>N/A</td>\n",
       "      <td>Bacteria; Fibrobacterota; Fibrobacteria; Fibro...</td>\n",
       "    </tr>\n",
       "    <tr>\n",
       "      <th>5</th>\n",
       "      <td>endoglucanase [Legionella longbeachae]</td>\n",
       "      <td>N/A</td>\n",
       "      <td>N/A</td>\n",
       "      <td>N/A</td>\n",
       "      <td>Bacteria; Pseudomonadota; Gammaproteobacteria;...</td>\n",
       "    </tr>\n",
       "    <tr>\n",
       "      <th>6</th>\n",
       "      <td>hypothetical protein JY572_16475 [Myxococcus l...</td>\n",
       "      <td>N/A</td>\n",
       "      <td>N/A</td>\n",
       "      <td>N/A</td>\n",
       "      <td>Bacteria; Myxococcota; Myxococcia; Myxococcale...</td>\n",
       "    </tr>\n",
       "    <tr>\n",
       "      <th>7</th>\n",
       "      <td>hypothetical protein O0S08_12255 [Nannocystis ...</td>\n",
       "      <td>N/A</td>\n",
       "      <td>N/A</td>\n",
       "      <td>N/A</td>\n",
       "      <td>Bacteria; Myxococcota; Polyangia; Nannocystale...</td>\n",
       "    </tr>\n",
       "    <tr>\n",
       "      <th>8</th>\n",
       "      <td>endoglucanase [Pseudenhygromyxa sp. WMMC2535]</td>\n",
       "      <td>N/A</td>\n",
       "      <td>N/A</td>\n",
       "      <td>N/A</td>\n",
       "      <td>Bacteria; Proteobacteria; Deltaproteobacteria;...</td>\n",
       "    </tr>\n",
       "    <tr>\n",
       "      <th>9</th>\n",
       "      <td>endoglucanase [Teredinibacter turnerae]</td>\n",
       "      <td>N/A</td>\n",
       "      <td>N/A</td>\n",
       "      <td>N/A</td>\n",
       "      <td>Bacteria; Pseudomonadota; Gammaproteobacteria;...</td>\n",
       "    </tr>\n",
       "    <tr>\n",
       "      <th>10</th>\n",
       "      <td>GnuB [uncultured bacterium]</td>\n",
       "      <td>N/A</td>\n",
       "      <td>N/A</td>\n",
       "      <td>N/A</td>\n",
       "      <td>Bacteria; environmental samples</td>\n",
       "    </tr>\n",
       "  </tbody>\n",
       "</table>\n",
       "</div>"
      ],
      "text/plain": [
       "                                        Protein Title Protein Accession Code  \\\n",
       "0   hypothetical protein F0U59_03510 [Archangium g...                    N/A   \n",
       "1                endoglucanase [Cellvibrio japonicus]                    N/A   \n",
       "2   glycosyl hydrolase family 45 domain-containing...                    N/A   \n",
       "3   hypothetical protein F0U62_05620 [Cystobacter ...                    N/A   \n",
       "4   Cellulase [Fibrobacter succinogenes subsp. suc...                    N/A   \n",
       "5              endoglucanase [Legionella longbeachae]                    N/A   \n",
       "6   hypothetical protein JY572_16475 [Myxococcus l...                    N/A   \n",
       "7   hypothetical protein O0S08_12255 [Nannocystis ...                    N/A   \n",
       "8       endoglucanase [Pseudenhygromyxa sp. WMMC2535]                    N/A   \n",
       "9             endoglucanase [Teredinibacter turnerae]                    N/A   \n",
       "10                        GnuB [uncultured bacterium]                    N/A   \n",
       "\n",
       "   Protein Product Protein Sequence  \\\n",
       "0              N/A              N/A   \n",
       "1              N/A              N/A   \n",
       "2              N/A              N/A   \n",
       "3              N/A              N/A   \n",
       "4              N/A              N/A   \n",
       "5              N/A              N/A   \n",
       "6              N/A              N/A   \n",
       "7              N/A              N/A   \n",
       "8              N/A              N/A   \n",
       "9              N/A              N/A   \n",
       "10             N/A              N/A   \n",
       "\n",
       "                                           Taxon Data  \n",
       "0   Bacteria; Myxococcota; Myxococcia; Myxococcale...  \n",
       "1   Bacteria; Pseudomonadota; Gammaproteobacteria;...  \n",
       "2   Bacteria; Pseudomonadota; Gammaproteobacteria;...  \n",
       "3   Bacteria; Myxococcota; Myxococcia; Myxococcale...  \n",
       "4   Bacteria; Fibrobacterota; Fibrobacteria; Fibro...  \n",
       "5   Bacteria; Pseudomonadota; Gammaproteobacteria;...  \n",
       "6   Bacteria; Myxococcota; Myxococcia; Myxococcale...  \n",
       "7   Bacteria; Myxococcota; Polyangia; Nannocystale...  \n",
       "8   Bacteria; Proteobacteria; Deltaproteobacteria;...  \n",
       "9   Bacteria; Pseudomonadota; Gammaproteobacteria;...  \n",
       "10                    Bacteria; environmental samples  "
      ]
     },
     "execution_count": 10,
     "metadata": {},
     "output_type": "execute_result"
    }
   ],
   "source": [
    "protein_files = ej2\n",
    "ej3 = extract_protein_data(protein_files)\n",
    "ej3"
   ]
  },
  {
   "cell_type": "code",
   "execution_count": 11,
   "id": "8fa94397-b8a0-4b0a-855c-341cfff0eadb",
   "metadata": {},
   "outputs": [],
   "source": [
    "from Bio import SeqIO, Entrez\n",
    "import pandas as pd\n",
    "\n",
    "def extract_protein_data(protein_files):\n",
    "    # Inicializar listas para almacenar los datos\n",
    "    protein_data = []\n",
    "    \n",
    "    Entrez.email = \"scminat@utn.edu.ec\"\n",
    "    Entrez.api_key = \"1e71a6fbed3171a40ea7a6cd9e0ed8298009\"\n",
    "    \n",
    "    for protein_id in protein_files:\n",
    "        try:\n",
    "            # Fetch the Protein record from the NCBI database\n",
    "            handle = Entrez.efetch(db=\"protein\", id=protein_id, rettype=\"gb\", retmode=\"text\")\n",
    "            record = SeqIO.read(handle, \"genbank\")\n",
    "            handle.close()\n",
    "            \n",
    "            # Crear un diccionario para almacenar los datos de cada acceso\n",
    "            accession_data = {}\n",
    "            \n",
    "            for feature in record.features:\n",
    "                if feature.type == \"CDS\":\n",
    "                    # Extraer datos de cada característica\n",
    "                    protein_sequence = feature.qualifiers.get(\"translation\", [\"N/A\"])[0]\n",
    "                    gene_name = feature.qualifiers.get(\"gene\", [\"N/A\"])[0]\n",
    "                    gene_product = feature.qualifiers.get(\"product\", [\"N/A\"])[0]\n",
    "                    \n",
    "                    # Agregar los datos al diccionario\n",
    "                    accession_data[\"Protein Accession\"] = protein_id\n",
    "                    accession_data[\"Protein Sequence\"] = protein_sequence\n",
    "                    accession_data[\"Gene Name\"] = gene_name\n",
    "                    accession_data[\"Gene Product\"] = gene_product\n",
    "            \n",
    "            # Obtener los datos del taxón\n",
    "            taxon_data = record.annotations.get(\"taxonomy\", [\"N/A\"])\n",
    "            accession_data[\"Taxon Data\"] = \"; \".join(taxon_data)\n",
    "            \n",
    "            # Agregar el diccionario a la lista de datos\n",
    "            protein_data.append(accession_data)\n",
    "        \n",
    "        except Exception as e:\n",
    "            print(f\"Error fetching data for protein ID {protein_id}: {e}\")\n",
    "\n",
    "    # Crear un DataFrame combinado con todos los datos\n",
    "    combined_df = pd.DataFrame(protein_data)\n",
    "    \n",
    "    # Exportar el DataFrame combinado a un archivo CSV\n",
    "    combined_df.to_csv('filtergh45.csv', index=False)\n",
    "    \n",
    "    # Mostrar el DataFrame combinado\n",
    "    print(\"Combined DataFrame:\")\n",
    "    print(combined_df)\n",
    "    return combined_df"
   ]
  },
  {
   "cell_type": "code",
   "execution_count": 12,
   "id": "e6af5051-869f-4f6f-91c5-8cf645fdb187",
   "metadata": {},
   "outputs": [
    {
     "name": "stdout",
     "output_type": "stream",
     "text": [
      "Combined DataFrame:\n",
      "  Protein Accession Protein Sequence Gene Name Gene Product  \\\n",
      "0       NP_000507.1              N/A      GNAS          N/A   \n",
      "1    NP_001073530.1              N/A  crygm2d3          N/A   \n",
      "\n",
      "                                          Taxon Data  \n",
      "0  Eukaryota; Metazoa; Chordata; Craniata; Verteb...  \n",
      "1  Eukaryota; Metazoa; Chordata; Craniata; Verteb...  \n"
     ]
    }
   ],
   "source": [
    "\n",
    "# Ejemplo de uso\n",
    "protein_files = [\"NP_000507.1\", \"NP_001073530.1\"]  # Reemplazar con los IDs de proteínas correctos\n",
    "combined_df = extract_protein_data(protein_files)\n"
   ]
  },
  {
   "cell_type": "code",
   "execution_count": 13,
   "id": "3f9d3eed-64e3-480e-8b98-52b94a174d0a",
   "metadata": {},
   "outputs": [
    {
     "name": "stdout",
     "output_type": "stream",
     "text": [
      "Combined DataFrame:\n",
      "   Protein Accession Protein Sequence Gene Name Gene Product  \\\n",
      "0         WNG53964.1              N/A       N/A          N/A   \n",
      "1         QEI18240.1              N/A       N/A          N/A   \n",
      "2         AIF91527.1              N/A       N/A          N/A   \n",
      "3         WNG23565.1              N/A       N/A          N/A   \n",
      "4         ACX75523.1              N/A       N/A          N/A   \n",
      "5         QIN33010.1              N/A       N/A          N/A   \n",
      "6         QSQ17534.1              N/A       N/A          N/A   \n",
      "7         WAS96913.1              N/A       N/A          N/A   \n",
      "8         QII80027.1              N/A       N/A          N/A   \n",
      "9         WYH50210.1              N/A       N/A          N/A   \n",
      "10        AAP49340.1              N/A      gnuB          N/A   \n",
      "\n",
      "                                           Taxon Data  \n",
      "0   Bacteria; Myxococcota; Myxococcia; Myxococcale...  \n",
      "1   Bacteria; Pseudomonadota; Gammaproteobacteria;...  \n",
      "2   Bacteria; Pseudomonadota; Gammaproteobacteria;...  \n",
      "3   Bacteria; Myxococcota; Myxococcia; Myxococcale...  \n",
      "4   Bacteria; Fibrobacterota; Fibrobacteria; Fibro...  \n",
      "5   Bacteria; Pseudomonadota; Gammaproteobacteria;...  \n",
      "6   Bacteria; Myxococcota; Myxococcia; Myxococcale...  \n",
      "7   Bacteria; Myxococcota; Polyangia; Nannocystale...  \n",
      "8   Bacteria; Proteobacteria; Deltaproteobacteria;...  \n",
      "9   Bacteria; Pseudomonadota; Gammaproteobacteria;...  \n",
      "10                    Bacteria; environmental samples  \n"
     ]
    }
   ],
   "source": [
    "# Lista de IDs de proteínas\n",
    "protein_files = ej2\n",
    "# Llamar a la función y almacenar el DataFrame combinado\n",
    "combined_df = extract_protein_data(protein_files)\n"
   ]
  },
  {
   "cell_type": "code",
   "execution_count": null,
   "id": "cc078449-f1a1-4473-b1a4-8d8cf30cd96f",
   "metadata": {},
   "outputs": [],
   "source": []
  }
 ],
 "metadata": {
  "kernelspec": {
   "display_name": "Python 3 (ipykernel)",
   "language": "python",
   "name": "python3"
  },
  "language_info": {
   "codemirror_mode": {
    "name": "ipython",
    "version": 3
   },
   "file_extension": ".py",
   "mimetype": "text/x-python",
   "name": "python",
   "nbconvert_exporter": "python",
   "pygments_lexer": "ipython3",
   "version": "3.11.7"
  }
 },
 "nbformat": 4,
 "nbformat_minor": 5
}
