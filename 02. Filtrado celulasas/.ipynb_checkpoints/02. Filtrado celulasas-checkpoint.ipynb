{
 "cells": [
  {
   "cell_type": "code",
   "execution_count": 1,
   "id": "91dc2eea-6d12-41ad-b891-279b1293e123",
   "metadata": {},
   "outputs": [],
   "source": [
    "import pandas as pd\n",
    "import Bio as bio"
   ]
  },
  {
   "cell_type": "code",
   "execution_count": 2,
   "id": "1bd7e1cc-3fdd-42c5-b2cb-ab70a8f5dc5b",
   "metadata": {},
   "outputs": [],
   "source": [
    "df = pd.read_csv(\"familia1.txt\", sep = '\\t')"
   ]
  },
  {
   "cell_type": "code",
   "execution_count": 3,
   "id": "a18415cb-b039-4e3a-9eb5-ab705b100e4b",
   "metadata": {},
   "outputs": [
    {
     "data": {
      "text/plain": [
       "['BCM92930.1', 'BCM90541.1', 'BCM93128.1', 'BCM93164.1']"
      ]
     },
     "execution_count": 3,
     "metadata": {},
     "output_type": "execute_result"
    }
   ],
   "source": [
    "col1 = df[\"accesion\"]\n",
    "lista = list(col1)\n",
    "lista"
   ]
  },
  {
   "cell_type": "code",
   "execution_count": 4,
   "id": "b5610b7b-4955-429a-b092-883db8fe8b1f",
   "metadata": {},
   "outputs": [],
   "source": [
    "# FILTRO 2 - NOMBRE DE PROTEINA\n",
    "from Bio import Entrez, SeqIO\n",
    "import pandas as pd\n",
    "\n",
    "Entrez.email = \"scminat@utn.edu.ec\"\n",
    "Entrez.api_key = \"1e71a6fbed3171a40ea7a6cd9e0ed8298009\"\n",
    "\n",
    "def get_protein_info(protein_id):\n",
    "    try:\n",
    "        # Fetch the Protein record from the NCBI database\n",
    "        handle = Entrez.efetch(db=\"protein\", id=protein_id, rettype=\"gb\", retmode=\"text\")\n",
    "        record = SeqIO.read(handle, \"genbank\")\n",
    "        handle.close()\n",
    "        \n",
    "        # Extract protein information\n",
    "        protein_title = record.description\n",
    "        region_info = None\n",
    "        ec_number = None\n",
    "        \n",
    "        for feature in record.features:\n",
    "            if feature.type == \"Region\":\n",
    "                region_info = {\n",
    "                    \"Region\": feature.location,\n",
    "                    \"Region Name\": feature.qualifiers.get(\"region_name\", [\"N/A\"])[0],\n",
    "                    \"Note\": feature.qualifiers.get(\"note\", [\"N/A\"])[0]\n",
    "                }\n",
    "        \n",
    "        return {\n",
    "            \"Protein Accession\": protein_id,\n",
    "            \"Protein Title\": protein_title,\n",
    "            \"Region Info\": region_info,\n",
    "        }\n",
    "    \n",
    "    except Exception as e:\n",
    "        print(f\"No se pudo obtener información del gen para {protein_id}: {str(e)}\")\n",
    "        return {\n",
    "            \"Protein Accession\": protein_id,\n",
    "            \"Protein Title\": \"N/A\",\n",
    "            \"Region Info\": \"N/A\",\n",
    "        }\n",
    "\n",
    "def extract_protein_data(protein_ids):\n",
    "    protein_data = []\n",
    "\n",
    "    for protein_id in protein_ids:\n",
    "        protein_info = get_protein_info(protein_id)\n",
    "        protein_data.append(protein_info)\n",
    "    \n",
    "    # Create DataFrame\n",
    "    df = pd.DataFrame(protein_data)\n",
    "    \n",
    "    # Export to CSV\n",
    "    df.to_csv(\"np1.csv\", index=False)\n",
    "    \n",
    "    return df"
   ]
  },
  {
   "cell_type": "code",
   "execution_count": 6,
   "id": "305bdb04-ffe5-4085-b11f-8c5fa693d13e",
   "metadata": {},
   "outputs": [
    {
     "data": {
      "text/html": [
       "<div>\n",
       "<style scoped>\n",
       "    .dataframe tbody tr th:only-of-type {\n",
       "        vertical-align: middle;\n",
       "    }\n",
       "\n",
       "    .dataframe tbody tr th {\n",
       "        vertical-align: top;\n",
       "    }\n",
       "\n",
       "    .dataframe thead th {\n",
       "        text-align: right;\n",
       "    }\n",
       "</style>\n",
       "<table border=\"1\" class=\"dataframe\">\n",
       "  <thead>\n",
       "    <tr style=\"text-align: right;\">\n",
       "      <th></th>\n",
       "      <th>Protein Accession</th>\n",
       "      <th>Protein Title</th>\n",
       "      <th>Region Info</th>\n",
       "    </tr>\n",
       "  </thead>\n",
       "  <tbody>\n",
       "    <tr>\n",
       "      <th>0</th>\n",
       "      <td>BCM92930.1</td>\n",
       "      <td>1,4-beta-D-glucan glucohydrolase [Abditibacter...</td>\n",
       "      <td>{'Region': (5, 6, 7, 8, 9, 10, 11, 12, 13, 14,...</td>\n",
       "    </tr>\n",
       "    <tr>\n",
       "      <th>1</th>\n",
       "      <td>BCM90541.1</td>\n",
       "      <td>hypothetical protein IAD21_02395 [Abditibacter...</td>\n",
       "      <td>{'Region': (105, 106, 107, 108, 109, 110, 111,...</td>\n",
       "    </tr>\n",
       "    <tr>\n",
       "      <th>2</th>\n",
       "      <td>BCM93128.1</td>\n",
       "      <td>hypothetical protein IAD21_05016 [Abditibacter...</td>\n",
       "      <td>{'Region': (350, 351, 352, 353, 354, 355, 356,...</td>\n",
       "    </tr>\n",
       "    <tr>\n",
       "      <th>3</th>\n",
       "      <td>BCM93164.1</td>\n",
       "      <td>6-phospho-beta-galactosidase [Abditibacteriota...</td>\n",
       "      <td>{'Region': (70, 71, 72, 73, 74, 75, 76, 77, 78...</td>\n",
       "    </tr>\n",
       "  </tbody>\n",
       "</table>\n",
       "</div>"
      ],
      "text/plain": [
       "  Protein Accession                                      Protein Title  \\\n",
       "0        BCM92930.1  1,4-beta-D-glucan glucohydrolase [Abditibacter...   \n",
       "1        BCM90541.1  hypothetical protein IAD21_02395 [Abditibacter...   \n",
       "2        BCM93128.1  hypothetical protein IAD21_05016 [Abditibacter...   \n",
       "3        BCM93164.1  6-phospho-beta-galactosidase [Abditibacteriota...   \n",
       "\n",
       "                                         Region Info  \n",
       "0  {'Region': (5, 6, 7, 8, 9, 10, 11, 12, 13, 14,...  \n",
       "1  {'Region': (105, 106, 107, 108, 109, 110, 111,...  \n",
       "2  {'Region': (350, 351, 352, 353, 354, 355, 356,...  \n",
       "3  {'Region': (70, 71, 72, 73, 74, 75, 76, 77, 78...  "
      ]
     },
     "execution_count": 6,
     "metadata": {},
     "output_type": "execute_result"
    }
   ],
   "source": [
    "# Definir la lista ej1 con más de cuatro accesiones proteicas\n",
    "ej1 = lista\n",
    "\n",
    "# Llamar a la función para extraer los datos de proteínas\n",
    "extract_protein_data(ej1)"
   ]
  },
  {
   "cell_type": "code",
   "execution_count": null,
   "id": "82260e07-5ce0-4ad2-a54e-c35553be5301",
   "metadata": {},
   "outputs": [],
   "source": []
  },
  {
   "cell_type": "code",
   "execution_count": null,
   "id": "4eb0ff11-1b62-4836-9ee3-5ef4e97b890f",
   "metadata": {},
   "outputs": [],
   "source": []
  }
 ],
 "metadata": {
  "kernelspec": {
   "display_name": "Python 3 (ipykernel)",
   "language": "python",
   "name": "python3"
  },
  "language_info": {
   "codemirror_mode": {
    "name": "ipython",
    "version": 3
   },
   "file_extension": ".py",
   "mimetype": "text/x-python",
   "name": "python",
   "nbconvert_exporter": "python",
   "pygments_lexer": "ipython3",
   "version": "3.11.7"
  }
 },
 "nbformat": 4,
 "nbformat_minor": 5
}
