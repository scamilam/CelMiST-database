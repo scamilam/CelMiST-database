{
 "cells": [
  {
   "cell_type": "code",
   "execution_count": 1,
   "id": "192d0e93-8eb9-4be4-94a8-997424a8d595",
   "metadata": {},
   "outputs": [],
   "source": [
    "import pandas as pd\n",
    "import Bio as bio"
   ]
  },
  {
   "cell_type": "code",
   "execution_count": 2,
   "id": "11b03bbf-18af-4167-90bc-6b2889666cb7",
   "metadata": {},
   "outputs": [],
   "source": [
    "df = pd.read_csv(\"in.txt\", sep = '\\t')"
   ]
  },
  {
   "cell_type": "code",
   "execution_count": 3,
   "id": "db29e435-96c8-42f5-9fd9-2f4c4837f4cf",
   "metadata": {},
   "outputs": [
    {
     "data": {
      "text/plain": [
       "['ACL94627.1', 'BCM90541.1', 'BCM93164.1', 'AIR61364.1']"
      ]
     },
     "execution_count": 3,
     "metadata": {},
     "output_type": "execute_result"
    }
   ],
   "source": [
    "col1 = df[\"accesion\"]\n",
    "lista = list(col1)\n",
    "lista"
   ]
  },
  {
   "cell_type": "code",
   "execution_count": 4,
   "id": "a117acf4-7dea-4499-b309-3eacd0d2f53e",
   "metadata": {},
   "outputs": [],
   "source": [
    "#BUSQUEDA PROTEICA - MODELADO BASE DE DATOS\n",
    "from Bio import SeqIO, Entrez\n",
    "\n",
    "def extract_protein_data(genbank_files):\n",
    "    # Inicializar listas para almacenar los datos\n",
    "    protein_data = []\n",
    "    \n",
    "    Entrez.email = \"scminat@utn.edu.ec\"   \n",
    "    Entrez.api_key = \"1e71a6fbed3171a40ea7a6cd9e0ed8298009\"\n",
    "    \n",
    "    for genbank_id in genbank_files:\n",
    "        # Fetch the GenBank record from the NCBI database\n",
    "        handle = Entrez.efetch(db=\"protein\", id=genbank_id, rettype=\"gb\", retmode=\"text\")\n",
    "        record = SeqIO.read(handle, \"genbank\")\n",
    "        \n",
    "        # Crear un diccionario para almacenar los datos de cada acceso\n",
    "        accession_data = {}\n",
    "        \n",
    "        for feature in record.features:\n",
    "            if feature.type == \"CDS\":\n",
    "                # Extraer datos de cada característica\n",
    "                protein_id = feature.qualifiers.get(\"protein_id\", [\"N/A\"])[0]\n",
    "                gene_name = feature.qualifiers.get(\"gene\", [\"N/A\"])[0]\n",
    "                locus_tag = feature.qualifiers.get(\"locus_tag\", [\"N/A\"])[0]\n",
    "                # Agregar los datos al diccionario\n",
    "                accession_data[\"Gene Name\"] = gene_name\n",
    "                accession_data[\"Locus Tag\"] = locus_tag\n",
    "                \n",
    "            elif feature.type == \"source\":\n",
    "                # Obtener los datos de bioSample\n",
    "                isolation_source = feature.qualifiers.get(\"isolation_source\", [\"N/A\"])[0]\n",
    "                lat_lon = feature.qualifiers.get(\"lat_lon\", [\"N/A\"])[0]\n",
    "                geo_loc_name = feature.qualifiers.get(\"geo_loc_name\", [\"N/A\"])[0]\n",
    "                host = feature.qualifiers.get('host', [\"\"])[0]\n",
    "                # Agregar los datos al diccionario\n",
    "                accession_data[\"Isolation Source\"] = isolation_source\n",
    "                accession_data[\"Latitude\"] = lat_lon\n",
    "                accession_data[\"Longitude\"] = lat_lon\n",
    "                accession_data[\"Geo Location Name\"] = geo_loc_name\n",
    "                accession_data[\"Host\"] = host\n",
    "                        \n",
    "        # Agregar el diccionario a la lista de datos\n",
    "        protein_data.append(accession_data)\n",
    "    \n",
    "    # Crear un DataFrame combinado con todos los datos\n",
    "    combined_df = pd.DataFrame(protein_data)\n",
    "    \n",
    "    # Exportar el DataFrame combinado a un archivo CSV\n",
    "    combined_df.to_csv('out.csv', index=False)\n",
    "    \n",
    "    # Mostrar el DataFrame combinado\n",
    "    print(\"Combined DataFrame:\")\n",
    "    print(combined_df)\n",
    "    return combined_df\n"
   ]
  },
  {
   "cell_type": "code",
   "execution_count": 5,
   "id": "66465f73-e684-4f82-b2a1-3f49712fb7e7",
   "metadata": {},
   "outputs": [
    {
     "data": {
      "text/plain": [
       "['ACL94627.1', 'BCM90541.1', 'BCM93164.1', 'AIR61364.1']"
      ]
     },
     "execution_count": 5,
     "metadata": {},
     "output_type": "execute_result"
    }
   ],
   "source": [
    "ej1 = lista\n",
    "ej1"
   ]
  },
  {
   "cell_type": "code",
   "execution_count": 6,
   "id": "2abea9fe-e48a-4feb-bb67-11c1e9eb929a",
   "metadata": {},
   "outputs": [
    {
     "name": "stdout",
     "output_type": "stream",
     "text": [
      "Combined DataFrame:\n",
      "        Isolation Source              Latitude             Longitude  \\\n",
      "0                    N/A                   N/A                   N/A   \n",
      "1  bark of Acer palmatum  35.1073 N 139.0477 E  35.1073 N 139.0477 E   \n",
      "2  bark of Acer palmatum  35.1073 N 139.0477 E  35.1073 N 139.0477 E   \n",
      "3              waterfall                   N/A                   N/A   \n",
      "\n",
      "                                   Geo Location Name           Host Gene Name  \\\n",
      "0                                                N/A                     bglX   \n",
      "1  Japan:Shizuoka, Atami, The New Technology Deve...  Acer palmatum       N/A   \n",
      "2  Japan:Shizuoka, Atami, The New Technology Deve...  Acer palmatum      lacG   \n",
      "3                                           Malaysia                      N/A   \n",
      "\n",
      "     Locus Tag  \n",
      "0   CCNA_01162  \n",
      "1  IAD21_02395  \n",
      "2  IAD21_05052  \n",
      "3   LH23_12085  \n"
     ]
    }
   ],
   "source": [
    "# Lista de IDs de GenBank\n",
    "genbank_files = ej1\n",
    "\n",
    "# Llamar a la función y almacenar el DataFrame combinado\n",
    "combined_df = extract_protein_data(genbank_files)\n"
   ]
  },
  {
   "cell_type": "code",
   "execution_count": null,
   "id": "85c15a6f-7c3b-41d6-9565-96ad14d50991",
   "metadata": {},
   "outputs": [],
   "source": []
  }
 ],
 "metadata": {
  "kernelspec": {
   "display_name": "Python 3 (ipykernel)",
   "language": "python",
   "name": "python3"
  },
  "language_info": {
   "codemirror_mode": {
    "name": "ipython",
    "version": 3
   },
   "file_extension": ".py",
   "mimetype": "text/x-python",
   "name": "python",
   "nbconvert_exporter": "python",
   "pygments_lexer": "ipython3",
   "version": "3.11.7"
  }
 },
 "nbformat": 4,
 "nbformat_minor": 5
}
