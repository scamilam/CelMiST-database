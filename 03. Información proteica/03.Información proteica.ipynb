{
 "cells": [
  {
   "cell_type": "code",
   "execution_count": 1,
   "id": "192d0e93-8eb9-4be4-94a8-997424a8d595",
   "metadata": {},
   "outputs": [],
   "source": [
    "import pandas as pd\n",
    "import Bio as bio\n"
   ]
  },
  {
   "cell_type": "code",
   "execution_count": 2,
   "id": "11b03bbf-18af-4167-90bc-6b2889666cb7",
   "metadata": {},
   "outputs": [],
   "source": [
    "df = pd.read_csv(\"familia1.txt\", sep = '\\t')"
   ]
  },
  {
   "cell_type": "code",
   "execution_count": 3,
   "id": "db29e435-96c8-42f5-9fd9-2f4c4837f4cf",
   "metadata": {},
   "outputs": [
    {
     "data": {
      "text/plain": [
       "['BCM92930.1', 'BCM90541.1', 'BCM93128.1', 'BCM93164.1']"
      ]
     },
     "execution_count": 3,
     "metadata": {},
     "output_type": "execute_result"
    }
   ],
   "source": [
    "col1 = df[\"accesion\"]\n",
    "lista = list(col1)\n",
    "lista"
   ]
  },
  {
   "cell_type": "code",
   "execution_count": 4,
   "id": "33d89b5f-7b40-4515-bb83-ade8907a8e2a",
   "metadata": {},
   "outputs": [],
   "source": [
    "df = pd.read_csv(\"celulasas.txt\", sep = '\\t')"
   ]
  },
  {
   "cell_type": "code",
   "execution_count": 5,
   "id": "fb1df4b7-a6e2-4956-acea-1f45f5833e1d",
   "metadata": {},
   "outputs": [
    {
     "data": {
      "text/plain": [
       "['BCM92930.1', 'BCM90541.1', 'BCM93128.1', 'BCM93164.1']"
      ]
     },
     "execution_count": 5,
     "metadata": {},
     "output_type": "execute_result"
    }
   ],
   "source": [
    "col2 = df[\"accesion\"]\n",
    "lista2 = list(col1)\n",
    "lista2"
   ]
  },
  {
   "cell_type": "code",
   "execution_count": 6,
   "id": "a117acf4-7dea-4499-b309-3eacd0d2f53e",
   "metadata": {},
   "outputs": [],
   "source": [
    "#BUSQUEDA PROTEICA - MODELADO BASE DE DATOS\n",
    "from Bio import SeqIO, Entrez\n",
    "import pandas as pd\n",
    "\n",
    "def extract_protein_data(genbank_files):\n",
    "    # Inicializar listas para almacenar los datos\n",
    "    protein_data = []\n",
    "    \n",
    "    Entrez.email = \"scminat@utn.edu.ec\"   \n",
    "    Entrez.api_key = \"1e71a6fbed3171a40ea7a6cd9e0ed8298009\"\n",
    "    \n",
    "    for genbank_id in genbank_files:\n",
    "        # Fetch the GenBank record from the NCBI database\n",
    "        handle = Entrez.efetch(db=\"protein\", id=genbank_id, rettype=\"gb\", retmode=\"text\")\n",
    "        record = SeqIO.read(handle, \"genbank\")\n",
    "        \n",
    "        # Crear un diccionario para almacenar los datos de cada acceso\n",
    "        accession_data = {}\n",
    "        \n",
    "        for feature in record.features:\n",
    "            if feature.type == \"CDS\":\n",
    "                # Extraer datos de cada característica\n",
    "                protein_id = feature.qualifiers.get(\"protein_id\", [\"N/A\"])[0]\n",
    "                gene_name = feature.qualifiers.get(\"gene\", [\"N/A\"])[0]\n",
    "                locus_tag = feature.qualifiers.get(\"locus_tag\", [\"N/A\"])[0]\n",
    "                # Agregar los datos al diccionario\n",
    "                accession_data[\"Gene Name\"] = gene_name\n",
    "                accession_data[\"Locus Tag\"] = locus_tag\n",
    "                \n",
    "            elif feature.type == \"source\":\n",
    "                # Obtener los datos de bioSample\n",
    "                isolation_source = feature.qualifiers.get(\"isolation_source\", [\"N/A\"])[0]\n",
    "                lat_lon = feature.qualifiers.get(\"lat_lon\", [\"N/A\"])[0]\n",
    "                geo_loc_name = feature.qualifiers.get(\"geo_loc_name\", [\"N/A\"])[0]\n",
    "                host = feature.qualifiers.get('host', [\"\"])[0]\n",
    "                # Agregar los datos al diccionario\n",
    "                accession_data[\"Isolation Source\"] = isolation_source\n",
    "                accession_data[\"Latitude\"] = lat_lon\n",
    "                accession_data[\"Longitude\"] = lat_lon\n",
    "                accession_data[\"Geo Location Name\"] = geo_loc_name\n",
    "                accession_data[\"Host\"] = host\n",
    "                        \n",
    "        # Agregar el diccionario a la lista de datos\n",
    "        protein_data.append(accession_data)\n",
    "    \n",
    "    # Crear un DataFrame combinado con todos los datos\n",
    "    combined_df = pd.DataFrame(protein_data)\n",
    "    \n",
    "    # Exportar el DataFrame combinado a un archivo CSV\n",
    "    combined_df.to_csv('databasept1.csv', index=False)\n",
    "    \n",
    "    # Mostrar el DataFrame combinado\n",
    "    print(\"Combined DataFrame:\")\n",
    "    print(combined_df)\n",
    "    return combined_df\n"
   ]
  },
  {
   "cell_type": "code",
   "execution_count": 7,
   "id": "66465f73-e684-4f82-b2a1-3f49712fb7e7",
   "metadata": {},
   "outputs": [
    {
     "data": {
      "text/plain": [
       "['BCM92930.1', 'BCM90541.1', 'BCM93128.1', 'BCM93164.1']"
      ]
     },
     "execution_count": 7,
     "metadata": {},
     "output_type": "execute_result"
    }
   ],
   "source": [
    "ej1 = lista\n",
    "ej1"
   ]
  },
  {
   "cell_type": "code",
   "execution_count": 8,
   "id": "2abea9fe-e48a-4feb-bb67-11c1e9eb929a",
   "metadata": {},
   "outputs": [
    {
     "name": "stdout",
     "output_type": "stream",
     "text": [
      "Combined DataFrame:\n",
      "        Isolation Source              Latitude             Longitude  \\\n",
      "0  bark of Acer palmatum  35.1073 N 139.0477 E  35.1073 N 139.0477 E   \n",
      "1  bark of Acer palmatum  35.1073 N 139.0477 E  35.1073 N 139.0477 E   \n",
      "2  bark of Acer palmatum  35.1073 N 139.0477 E  35.1073 N 139.0477 E   \n",
      "3  bark of Acer palmatum  35.1073 N 139.0477 E  35.1073 N 139.0477 E   \n",
      "\n",
      "                                   Geo Location Name           Host Gene Name  \\\n",
      "0  Japan:Shizuoka, Atami, The New Technology Deve...  Acer palmatum      gghA   \n",
      "1  Japan:Shizuoka, Atami, The New Technology Deve...  Acer palmatum       N/A   \n",
      "2  Japan:Shizuoka, Atami, The New Technology Deve...  Acer palmatum       N/A   \n",
      "3  Japan:Shizuoka, Atami, The New Technology Deve...  Acer palmatum      lacG   \n",
      "\n",
      "     Locus Tag  \n",
      "0  IAD21_04814  \n",
      "1  IAD21_02395  \n",
      "2  IAD21_05016  \n",
      "3  IAD21_05052  \n"
     ]
    }
   ],
   "source": [
    "\n",
    "# Lista de IDs de GenBank\n",
    "genbank_files = ej1\n",
    "\n",
    "# Llamar a la función y almacenar el DataFrame combinado\n",
    "combined_df = extract_protein_data(genbank_files)\n"
   ]
  },
  {
   "cell_type": "code",
   "execution_count": null,
   "id": "43edef31-0958-40b8-9f43-4ad9ed9749e7",
   "metadata": {},
   "outputs": [],
   "source": [
    "ej2 = lista2[18153:22687]\n",
    "ej2"
   ]
  },
  {
   "cell_type": "code",
   "execution_count": null,
   "id": "b8512102-67c1-4b39-9b69-8267e26034a7",
   "metadata": {},
   "outputs": [],
   "source": [
    "\n",
    "# Lista de IDs de GenBank\n",
    "genbank_files = ej2\n",
    "\n",
    "# Llamar a la función y almacenar el DataFrame combinado\n",
    "combined_df = extract_protein_data(genbank_files)\n"
   ]
  }
 ],
 "metadata": {
  "kernelspec": {
   "display_name": "Python 3 (ipykernel)",
   "language": "python",
   "name": "python3"
  },
  "language_info": {
   "codemirror_mode": {
    "name": "ipython",
    "version": 3
   },
   "file_extension": ".py",
   "mimetype": "text/x-python",
   "name": "python",
   "nbconvert_exporter": "python",
   "pygments_lexer": "ipython3",
   "version": "3.11.7"
  }
 },
 "nbformat": 4,
 "nbformat_minor": 5
}
